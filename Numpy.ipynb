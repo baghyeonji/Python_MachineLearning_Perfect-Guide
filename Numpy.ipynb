{
 "cells": [
  {
   "cell_type": "markdown",
   "id": "db2818ab",
   "metadata": {},
   "source": [
    "# 머신러닝\n",
    "### 지도학습\n",
    "    - 분류\n",
    "    - 회귀\n",
    "    - 추천시스템\n",
    "    - 시각 / 음성감지 / 인지\n",
    "    - 텍스트분석 / NLP\n",
    "### 비지도학습\n",
    "    - 클러스트링\n",
    "    - 차원 축소\n",
    "    - 강화학습"
   ]
  },
  {
   "cell_type": "markdown",
   "id": "2e2ef86f",
   "metadata": {},
   "source": [
    "## 파이썬 머신러닝 패키지\n",
    " - 사이킷런(Scikit-Learn) : 머신러닝\n",
    " - 텐서플로, 케라스 : 딥러닝\n",
    " - 넘파이(Numpy) : 행렬, 선형대수\n",
    " - 사이파이(Scipy) : 자연과학, 통계\n",
    " - 판다스(pandas) : 2차원 데이터 처리\n",
    " - Matplotlib, Seaborn : 시각화"
   ]
  },
  {
   "cell_type": "markdown",
   "id": "8bfd6aad",
   "metadata": {},
   "source": [
    "## Numpy\n",
    "- Numerical Python\n",
    "- 선형대수 기반, 대량 데이터의 배열 연산 가능\n",
    "- ndarray 데이터 타입 => N-dimension array\n",
    "    - ndarray내의 데이터에는 숫자 / 문자열 / 불 값 모두 가능\n",
    "    - 하지만 같은 데이터 타입만 가능"
   ]
  },
  {
   "cell_type": "markdown",
   "id": "6663e4b0",
   "metadata": {},
   "source": [
    "### ndarray \n",
    "- array() : 다양한 인자를 입력받아 ndarray로 변환\n",
    "- ndarray.shape : ndarray의 차원과 크기를 tuple 로 나타냄\n",
    "- ndim : 차원 확인\n",
    "- dtype : ndarray 내의 데이터 타입 확인\n"
   ]
  },
  {
   "cell_type": "code",
   "execution_count": 10,
   "id": "7a9a8d50",
   "metadata": {},
   "outputs": [
    {
     "name": "stdout",
     "output_type": "stream",
     "text": [
      "array1 type : <class 'numpy.ndarray'>\n",
      "array1 array 형태 : (3,)\n",
      "array2 type: <class 'numpy.ndarray'>\n",
      "array2 array 형태 : (2, 3)\n",
      "array3 type : <class 'numpy.ndarray'>\n",
      "array3 array 형태 : (1, 3) \n",
      "\n",
      "array1 : 1차원, array2 : 2차원, array3 :  2차원\n"
     ]
    }
   ],
   "source": [
    "array1 = np.array([1,2,3])\n",
    "print('array1 type :',type(array1))\n",
    "print('array1 array 형태 :',array1.shape) # 1차원 array로 3개 데이터 가짐\n",
    "\n",
    "array2 = np.array([[1,2,3],\n",
    "                  [2,3,4]])\n",
    "print('array2 type:', type(array2))\n",
    "print('array2 array 형태 :', array2.shape) # 2차원 array로 2개 로우, 3개 칼럼\n",
    "\n",
    "array3 = np.array([[1,2,3]])\n",
    "print('array3 type :',type(array3))\n",
    "print('array3 array 형태 :', array3.shape,'\\n')\n",
    "\n",
    "print('array1 : {:0}차원, array2 : {:1}차원, array3 : {:2}차원'.format(array1.ndim, array2.ndim,\n",
    "                                                                array3.ndim))\n",
    "      "
   ]
  },
  {
   "cell_type": "code",
   "execution_count": 11,
   "id": "31f89bdc",
   "metadata": {},
   "outputs": [
    {
     "name": "stdout",
     "output_type": "stream",
     "text": [
      "<class 'list'>\n",
      "<class 'numpy.ndarray'>\n",
      "[1 2 3] int32\n"
     ]
    }
   ],
   "source": [
    "list1 = [1,2,3]\n",
    "print(type(list1))\n",
    "array1 = np.array(list1)\n",
    "print(type(array1))\n",
    "print(array1,array1.dtype)"
   ]
  },
  {
   "cell_type": "markdown",
   "id": "7e1c7315",
   "metadata": {},
   "source": [
    "==============================================================\n",
    "\n",
    "- 리스트는 다른 데이터 타입가능\n",
    "- ndarray 내엔 같은 데이터 타입만 가능\n",
    "- 만약 데이터 유형이 섞여있는 리스트를 ndarray 변경시엔 더 큰 데이터 타입으로 형변환\n",
    "- astype() : ndarray내 데이터 타입 변경\n",
    "\n"
   ]
  },
  {
   "cell_type": "code",
   "execution_count": 2,
   "id": "e45ed50e",
   "metadata": {},
   "outputs": [
    {
     "name": "stdout",
     "output_type": "stream",
     "text": [
      "['1' '2' 'test'] <U11\n",
      "[1. 2. 3.] float64\n",
      "[1. 2. 3.] float64\n"
     ]
    }
   ],
   "source": [
    "# int형과 string형 => string으로 변환\n",
    "list2 = [1,2,'test']\n",
    "array2 = np.array(list2)\n",
    "print(array2, array2.dtype)\n",
    "\n",
    "# int형과 float형 => float형\n",
    "list3 = [1,2,3.0]\n",
    "array3 = np.array(list3)\n",
    "print(array3, array3.dtype)\n",
    "\n",
    "# astype()\n",
    "array_int = np.array([1,2,3])\n",
    "array_float = array_int.astype('float64')\n",
    "print(array_float, array_float.dtype)"
   ]
  },
  {
   "cell_type": "markdown",
   "id": "f41dc3c3",
   "metadata": {},
   "source": [
    "### ndarray 생성\n",
    "- arange() : array를 range로 표현 (0 ~ N-1)\n",
    "- zeros() : 튜플 형태로 shape값 입력, dtype값 정해주지 않으면 float64형이 기본\n",
    "- ones() : 튜플 형태로 shape값 입력, dtype값 정해주지 않으면 float64형이 기본"
   ]
  },
  {
   "cell_type": "code",
   "execution_count": 9,
   "id": "cd09dea3",
   "metadata": {},
   "outputs": [
    {
     "name": "stdout",
     "output_type": "stream",
     "text": [
      "[0 1 2 3 4 5 6 7 8 9]\n",
      "int32 (10,) \n",
      "\n",
      "[[0 0]\n",
      " [0 0]\n",
      " [0 0]]\n",
      "int32 (3, 2) \n",
      "\n",
      "[[1. 1.]\n",
      " [1. 1.]\n",
      " [1. 1.]]\n",
      "float64 (3, 2)\n"
     ]
    }
   ],
   "source": [
    "array1 = np.arange(10)\n",
    "print(array1)\n",
    "print(array1.dtype, array1.shape,'\\n')\n",
    "\n",
    "array2 = np.zeros((3,2),dtype = 'int32')\n",
    "print(array2)\n",
    "print(array2.dtype, array2.shape,'\\n')\n",
    "\n",
    "array3 = np.ones((3,2))\n",
    "print(array3)\n",
    "print(array3.dtype, array3.shape)"
   ]
  },
  {
   "cell_type": "markdown",
   "id": "91e9697c",
   "metadata": {},
   "source": [
    "- reshape()\n",
    "    - ndarray의 차원과 크기 변경\n",
    "    - 지정된 사이즈로 변경 불가능하면 오류 발생\n",
    "    - 인자로 -1 사용 => 원래 ndarray 와 호환되는 새로운 shape로 변경\n",
    "    - reshape(-1,1) 같은 형태로 자주 사용 => 형태 통일 위해 (2차원)\n",
    "- tolist() : ndarray를 리스트 자료형으로 변환"
   ]
  },
  {
   "cell_type": "code",
   "execution_count": 11,
   "id": "377c1306",
   "metadata": {},
   "outputs": [
    {
     "name": "stdout",
     "output_type": "stream",
     "text": [
      "[0 1 2 3 4 5 6 7 8 9]\n",
      "[[0 1 2 3 4]\n",
      " [5 6 7 8 9]] (2, 5)\n"
     ]
    }
   ],
   "source": [
    "array1 = np.arange(10)\n",
    "print(array1)\n",
    "array2 = array1.reshape(-1,5)\n",
    "print(array2, array2.shape)"
   ]
  },
  {
   "cell_type": "code",
   "execution_count": 17,
   "id": "d74fb984",
   "metadata": {},
   "outputs": [
    {
     "name": "stdout",
     "output_type": "stream",
     "text": [
      "[[[0 1]\n",
      "  [2 3]]\n",
      "\n",
      " [[4 5]\n",
      "  [6 7]]]\n",
      "[[[0, 1], [2, 3]], [[4, 5], [6, 7]]] \n",
      "\n",
      "[[0]\n",
      " [1]\n",
      " [2]\n",
      " [3]\n",
      " [4]\n",
      " [5]\n",
      " [6]\n",
      " [7]]\n",
      "(8, 1)\n"
     ]
    }
   ],
   "source": [
    "array1 = np.arange(8)\n",
    "array3d = array1.reshape((2,2,2))\n",
    "print(array3d)\n",
    "print(array3d.tolist(),'\\n')\n",
    "\n",
    "array2 = array3d.reshape(-1,1)\n",
    "print(array2)\n",
    "print(array2.shape)"
   ]
  },
  {
   "cell_type": "markdown",
   "id": "30c79aed",
   "metadata": {},
   "source": [
    "### ndarray 데이터 선택\n",
    "- 1. 특정한 데이터만 추출 : 인덱스 값 지정\n",
    "- 2. 슬라이싱 : ':'기호 사용. (시작인덱스) ~ (종료인덱스-1)의 ndarray 반환\n",
    "- 3. 팬시 인덱싱 : 연속된 인덱스 값 말고 끊어서 보고 싶을때 사용. 일정한 인덱싱 집합을 리스트 / ndarray 형태로 지정\n",
    "- 4. 불린 인덱싱 : 특정 조건에 해당하는 위치의 ndarray 반환\n",
    "\n",
    "=  1번빼곤 모두 ndarray 추출 \n",
    "\n",
    "##### axis = 0 : row 방향, =1 : column 방향"
   ]
  },
  {
   "cell_type": "code",
   "execution_count": 22,
   "id": "064db2bc",
   "metadata": {},
   "outputs": [
    {
     "name": "stdout",
     "output_type": "stream",
     "text": [
      "array1: [1 2 3 4 5 6 7 8 9]\n",
      "3 <class 'numpy.int32'>\n",
      "맨 뒤의 값: 9 \n",
      "\n",
      "[[1 2 3]\n",
      " [4 5 6]\n",
      " [7 8 9]]\n",
      "1 2 9\n"
     ]
    }
   ],
   "source": [
    "# 단일값 선택\n",
    "array1 = np.arange(1,10)\n",
    "print('array1:',array1)\n",
    "value = array1[2]\n",
    "print(value, type(value))\n",
    "print('맨 뒤의 값:',array1[-1],'\\n')\n",
    "\n",
    "array1d = np.arange(1,10)\n",
    "array2d = array1d.reshape(3,3)\n",
    "print(array2d)\n",
    "print(array2d[0,0],array2d[0,1],array2d[2,2])"
   ]
  },
  {
   "cell_type": "code",
   "execution_count": 28,
   "id": "86baeb8f",
   "metadata": {},
   "outputs": [
    {
     "name": "stdout",
     "output_type": "stream",
     "text": [
      "[1 2 3] <class 'numpy.ndarray'>\n",
      "[1 2 3]\n",
      "[4 5 6 7 8 9]\n",
      "[1 2 3 4 5 6 7 8 9] \n",
      "\n",
      "array2d:\n",
      " [[1 2 3]\n",
      " [4 5 6]\n",
      " [7 8 9]]\n",
      "array2d[0:2,0:2]\n",
      " [[1 2]\n",
      " [4 5]]\n",
      "array2d[1:3,:]\n",
      " [[4 5 6]\n",
      " [7 8 9]]\n",
      "array2d[:2,0]\n",
      " [1 4] \n",
      "\n",
      "[1 2 3]\n",
      "(3,)\n"
     ]
    }
   ],
   "source": [
    "# 슬라이싱\n",
    "\n",
    "array1 = np.arange(1,10)\n",
    "array3 = array1[0:3]\n",
    "print(array3, type(array3))\n",
    "print(array1[:3])\n",
    "print(array1[3:])\n",
    "print(array1[:],'\\n')\n",
    "\n",
    "array1d = np.arange(1,10)\n",
    "array2d = array1d.reshape(3,3)\n",
    "print('array2d:\\n',array2d)\n",
    "print('array2d[0:2,0:2]\\n',array2d[0:2,0:2])\n",
    "print('array2d[1:3,:]\\n',array2d[1:3,:])\n",
    "print('array2d[:2,0]\\n',array2d[:2,0],'\\n')\n",
    "\n",
    "print(array2d[0]) # 2차원 ndarray에서 뒤에오는 인덱스 없애면 1차원 반환, 3 => 2\n",
    "print(array2d[0].shape)"
   ]
  },
  {
   "cell_type": "code",
   "execution_count": 31,
   "id": "24442ad1",
   "metadata": {},
   "outputs": [
    {
     "name": "stdout",
     "output_type": "stream",
     "text": [
      "[3, 6]\n",
      "[[1, 2], [4, 5]]\n",
      "[[1, 2, 3], [4, 5, 6]]\n"
     ]
    }
   ],
   "source": [
    "# 팬시 인덱싱\n",
    "array1d=  np.arange(1,10)\n",
    "array2d = array1d.reshape(3,3)\n",
    "\n",
    "array3 = r=array2d[[0,1],2]\n",
    "print(array3.tolist())\n",
    "\n",
    "array4 = array2d[[0,1],0:2]\n",
    "print(array4.tolist())\n",
    "\n",
    "array5 = array2d[[0,1]]\n",
    "print(array5.tolist())"
   ]
  },
  {
   "cell_type": "code",
   "execution_count": 35,
   "id": "25c68c26",
   "metadata": {},
   "outputs": [
    {
     "name": "stdout",
     "output_type": "stream",
     "text": [
      "[False False False False False  True  True  True  True]\n",
      "[6 7 8 9] \n",
      "\n",
      "[6 7 8 9]\n"
     ]
    }
   ],
   "source": [
    "# 불린 인덱싱 => [] 안에 조건문 지정\n",
    "\n",
    "array1d = np.arange(1,10)\n",
    "array3 = array1d[array1d > 5]\n",
    "print(array1d > 5)\n",
    "print(array3,'\\n')\n",
    "\n",
    "indexes = np.array([5,6,7,8])\n",
    "array4 = array1d[indexes]\n",
    "print(array4)\n",
    "\n",
    "# 1. 필터링 조건을 []안에 기재\n",
    "# 2. True값에 해당하는 인덱스값만 저장\n",
    "# 3. 저장된 인덱스 데이터 세트로 ndarray조회"
   ]
  },
  {
   "cell_type": "markdown",
   "id": "448ae0dc",
   "metadata": {},
   "source": [
    "### 행렬정렬\n",
    "- np.sort() : 원행렬 유지한채 정렬된 행렬 반환\n",
    "- ndarray.sort() : 원행렬 자체를 정렬한채로 변환. 반환값은 None\n",
    "- argsort() : 정렬된 행렬의 인덱스를 ndarray형태로 반환\n",
    "\n",
    "=> 기본적으로 오름차순. 내림차순 정렬시 [::-1]\n",
    "\n",
    "=> 행렬 2차원 이상시 axis 축값 설정해 정렬 수행"
   ]
  },
  {
   "cell_type": "code",
   "execution_count": 42,
   "id": "be67ee86",
   "metadata": {},
   "outputs": [
    {
     "name": "stdout",
     "output_type": "stream",
     "text": [
      "원본행렬: [3 1 9 5] \n",
      "\n",
      "반환된 행렬: [1 3 5 9]\n",
      "원본행렬 : [3 1 9 5]\n",
      "반환된 행렬: None\n",
      "원본행렬 : [1 3 5 9]\n",
      "내림차순으로 정렬: [9 5 3 1] \n",
      "\n",
      "[[ 8 12]\n",
      " [ 7  1]]\n",
      "로우 방향으로 정렬:\n",
      " [[ 7  1]\n",
      " [ 8 12]]\n",
      "칼럼 방향으로 정렬:\n",
      " [[ 8 12]\n",
      " [ 1  7]]\n"
     ]
    }
   ],
   "source": [
    "array1 = np.array([3,1,9,5])\n",
    "print('원본행렬:',array1,'\\n')\n",
    "\n",
    "sort_array1 = np.sort(array1)\n",
    "print('반환된 행렬:',sort_array1)\n",
    "print('원본행렬 :',array1)\n",
    "\n",
    "sort_array2 = array1.sort()\n",
    "print('반환된 행렬:',sort_array2)\n",
    "print('원본행렬 :',array1)\n",
    "\n",
    "sort_array1_desc = np.sort(array1)[::-1]\n",
    "print('내림차순으로 정렬:',sort_array1_desc,'\\n')\n",
    "\n",
    "# 2차원 이상\n",
    "array2d = np.array([[8,12],\n",
    "                   [7,1]])\n",
    "print(array2d)\n",
    "print('로우 방향으로 정렬:\\n',np.sort(array2d,axis=0))\n",
    "print('칼럼 방향으로 정렬:\\n',np.sort(array2d,axis=1))\n"
   ]
  },
  {
   "cell_type": "code",
   "execution_count": 4,
   "id": "615b3bfe",
   "metadata": {},
   "outputs": [
    {
     "name": "stdout",
     "output_type": "stream",
     "text": [
      "<class 'numpy.ndarray'>\n",
      "행렬 정렬시 원본 행렬의 인덱스 : [1 0 3 2]\n",
      "<class 'numpy.ndarray'>\n",
      "행렬 내림차순 정렬시 원본 행렬의 인덱스 : [2 3 0 1]\n",
      "성적 오름차순 정렬시 score_array 인덱스 : [0 2 4 1 3]\n",
      "성적 오름차순 정렬시 name_array 이름 출력 : ['John' 'Sarah' 'Samuel' 'Mike' 'Kate']\n"
     ]
    }
   ],
   "source": [
    "# 정렬된 행렬의 인덱스 반환\n",
    "org_array = np.array([3,1,9,5])\n",
    "sort_indices = np.argsort(org_array)\n",
    "print(type(sort_indices))\n",
    "print('행렬 정렬시 원본 행렬의 인덱스 :',sort_indices)\n",
    "\n",
    "sort_indices_desc = np.argsort(org_array)[::-1]\n",
    "print(type(sort_indices_desc))\n",
    "print('행렬 내림차순 정렬시 원본 행렬의 인덱스 :',sort_indices_desc)\n",
    "\n",
    "#  ndarray는 테이블이나 df처럼 메타데이터 가질수 없음\n",
    "# 즉 np.argsort()을 이용해 반환된 인덱스를 name_array에 팬시 인덱스로 적용\n",
    "\n",
    "name_array = np.array(['John','Mike','Sarah','Kate','Samuel'])\n",
    "score_array = np.array([78,95,84,98,88])\n",
    "\n",
    "sort_indices_asc = np.argsort(score_array)\n",
    "print('성적 오름차순 정렬시 score_array 인덱스 :',sort_indices_asc)\n",
    "print('성적 오름차순 정렬시 name_array 이름 출력 :',name_array[sort_indices_asc])"
   ]
  },
  {
   "cell_type": "markdown",
   "id": "fd4bf831",
   "metadata": {},
   "source": [
    "### 선형대수 연산\n",
    "- 행렬 내적 : np.dot()\n",
    "- 전치 행렬 : np.transpose() => 행과 열 위치 교환"
   ]
  },
  {
   "cell_type": "code",
   "execution_count": 6,
   "id": "4986aa25",
   "metadata": {},
   "outputs": [
    {
     "name": "stdout",
     "output_type": "stream",
     "text": [
      "[[ 58  64]\n",
      " [139 154]] \n",
      "\n",
      "[[1 3]\n",
      " [2 4]]\n"
     ]
    }
   ],
   "source": [
    "# 행렬 내적\n",
    "A = np.array([[1,2,3],\n",
    "             [4,5,6]])\n",
    "B = np.array([[7,8],\n",
    "             [9,10],\n",
    "             [11,12]])\n",
    "dot_product = np.dot(A,B)\n",
    "print(dot_product,'\\n')\n",
    "\n",
    "# 전치 행렬\n",
    "A = np.array([[1,2],\n",
    "             [3,4]])\n",
    "transpose_mat = np.transpose(A)\n",
    "print(transpose_mat)"
   ]
  },
  {
   "cell_type": "code",
   "execution_count": null,
   "id": "ec0a4527",
   "metadata": {},
   "outputs": [],
   "source": []
  }
 ],
 "metadata": {
  "kernelspec": {
   "display_name": "Python 3",
   "language": "python",
   "name": "python3"
  },
  "language_info": {
   "codemirror_mode": {
    "name": "ipython",
    "version": 3
   },
   "file_extension": ".py",
   "mimetype": "text/x-python",
   "name": "python",
   "nbconvert_exporter": "python",
   "pygments_lexer": "ipython3",
   "version": "3.8.8"
  }
 },
 "nbformat": 4,
 "nbformat_minor": 5
}
